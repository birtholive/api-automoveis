{
 "cells": [
  {
   "cell_type": "code",
   "execution_count": null,
   "id": "fd3001c7",
   "metadata": {},
   "outputs": [],
   "source": [
    "import pandas as pd"
   ]
  },
  {
   "cell_type": "markdown",
   "id": "771f104f",
   "metadata": {},
   "source": [
    "# MARCAS"
   ]
  },
  {
   "cell_type": "code",
   "execution_count": null,
   "id": "05c1831d",
   "metadata": {},
   "outputs": [],
   "source": [
    "df = pd.read_json(\"https://fipe.parallelum.com.br/api/v2/cars/brands\")\n",
    "\n",
    "df.to_csv(\"marcas.csv\", index=False)"
   ]
  },
  {
   "cell_type": "markdown",
   "id": "7d61a5c0",
   "metadata": {},
   "source": [
    "# MODELOS"
   ]
  },
  {
   "cell_type": "code",
   "execution_count": null,
   "id": "b8b105dd",
   "metadata": {},
   "outputs": [],
   "source": [
    "df_modelos = pd.DataFrame()\n",
    "for code in df[\"code\"]:\n",
    "    df_temp = pd.read_json(f\"https://fipe.parallelum.com.br/api/v2/cars/brands/{code}/models\")\n",
    "    df_temp[\"brand_code\"] = code\n",
    "    df_modelos = pd.concat([df_modelos, df_temp])\n",
    "df_modelos.to_csv(\"modelos.csv\", index=False)\n",
    "df_modelos"
   ]
  }
 ],
 "metadata": {
  "kernelspec": {
   "display_name": "Python 3",
   "language": "python",
   "name": "python3"
  },
  "language_info": {
   "codemirror_mode": {
    "name": "ipython",
    "version": 3
   },
   "file_extension": ".py",
   "mimetype": "text/x-python",
   "name": "python",
   "nbconvert_exporter": "python",
   "pygments_lexer": "ipython3",
   "version": "3.11.9"
  }
 },
 "nbformat": 4,
 "nbformat_minor": 5
}
