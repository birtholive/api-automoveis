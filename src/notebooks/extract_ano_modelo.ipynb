{
 "cells": [
  {
   "cell_type": "code",
   "execution_count": 12,
   "id": "fd3001c7",
   "metadata": {},
   "outputs": [],
   "source": [
    "import pandas as pd\n",
    "import requests\n",
    "import time\n",
    "import os"
   ]
  },
  {
   "cell_type": "code",
   "execution_count": 21,
   "id": "7b6a7af9",
   "metadata": {},
   "outputs": [
    {
     "name": "stdout",
     "output_type": "stream",
     "text": [
      "Ocorreu um erro ao processar o modelo 5292 da marca 7: 429 Client Error: Too Many Requests for url: https://fipe.parallelum.com.br/api/v2/cars/brands/7/models/5292/years\n",
      "O arquivo não existe, e por isso está sendo criado...\n",
      "Arquivo salvo. Encerrando o loop para evitar bloqueio por limite de requisições.\n"
     ]
    }
   ],
   "source": [
    "df_marcas = pd.read_csv(\"marcas.csv\")\n",
    "df_modelos = pd.read_csv(\"modelos.csv\")\n",
    "\n",
    "if os.path.exists(\"anos.csv\"):\n",
    "    \n",
    "    df_anos = pd.read_csv(\"anos.csv\")\n",
    "\n",
    "    par_modelo = df_modelos[[\"code\", \"brand_code\"]]\n",
    "    par_modelo.columns = [\"model_code\", \"brand_code\"]\n",
    "    par_ano = df_anos[[\"model_code\", \"brand_code\"]]\n",
    "    diff = pd.concat([par_modelo, par_ano]).drop_duplicates(keep=False)\n",
    "else:\n",
    "    diff = df_modelos[[\"code\", \"brand_code\"]]\n",
    "    diff.columns = [\"model_code\", \"brand_code\"]\n",
    "\n",
    "df_anos = pd.DataFrame()\n",
    "\n",
    "for model_code, brand_code in diff.values:\n",
    "    try:\n",
    "        response = requests.get(f\"https://fipe.parallelum.com.br/api/v2/cars/brands/{brand_code}/models/{model_code}/years\")\n",
    "        response.raise_for_status()   # opcional: levanta exceção em caso de erro HTTP\n",
    "        texto = response.text        # aqui está todo o conteúdo da resposta em string\n",
    "        df_temp = pd.DataFrame([{\"model_code\": model_code, \"brand_code\": brand_code, \"model_ano\":texto}])\n",
    "        df_anos = pd.concat([df_anos, df_temp], ignore_index=True)\n",
    "    except Exception as e:\n",
    "        print(f\"Ocorreu um erro ao processar o modelo {model_code} da marca {brand_code}: {e}\")\n",
    "        if os.path.exists(\"anos.csv\"):\n",
    "            print(\"O arquivo já existe.\")\n",
    "            df_anos.to_csv(\"anos.csv\", index=False, encoding=\"utf-8\", mode=\"a\", header=False)\n",
    "        else:\n",
    "            print(\"O arquivo não existe, e por isso está sendo criado...\")\n",
    "            df_anos.to_csv(\"anos.csv\", index=False, encoding=\"utf-8\")\n",
    "        \n",
    "        print(\"Arquivo salvo. Encerrando o loop para evitar bloqueio por limite de requisições.\")\n",
    "        break\n",
    "    time.sleep(0.2)  # Pequeno delay para evitar limite de requisições\n",
    "if not df_anos.empty:\n",
    "    df_anos.to_csv(\"anos.csv\", index=False, encoding=\"utf-8\")\n",
    "\n",
    "\n",
    "\n",
    "\n",
    "\n"
   ]
  },
  {
   "cell_type": "code",
   "execution_count": null,
   "id": "dae72018",
   "metadata": {},
   "outputs": [],
   "source": [
    "print(df_anos)"
   ]
  },
  {
   "cell_type": "code",
   "execution_count": null,
   "id": "d965b780",
   "metadata": {},
   "outputs": [],
   "source": [
    "df_modelos = pd.read_csv(\"modelos.csv\")\n",
    "df_anos = pd.read_csv(\"anos.csv\")\n",
    "print(df_anos)\n",
    "\n",
    "par_modelo = df_modelos[[\"code\", \"brand_code\"]].values\n",
    "par_ano = df_anos[[\"model_code\", \"brand_code\"]].values\n",
    "\n",
    "for model_code, brand_code in par_modelo:\n",
    "    if (model_code, brand_code) in par_ano:\n",
    "        print(model_code, brand_code)\n",
    "\n",
    "\n",
    "par_ano\n"
   ]
  },
  {
   "cell_type": "markdown",
   "id": "771f104f",
   "metadata": {},
   "source": [
    "# EXTRAIR ANO MODELO"
   ]
  },
  {
   "cell_type": "code",
   "execution_count": null,
   "id": "05c1831d",
   "metadata": {},
   "outputs": [],
   "source": [
    "df_marcas = pd.read_csv(\"marcas.csv\")\n",
    "df_modelos = pd.read_csv(\"modelos.csv\")\n",
    "df_anos = pd.read_csv(\"anos.csv\")\n",
    "\n",
    "par_modelo = df_modelos[[\"code\", \"brand_code\"]].values\n",
    "par_ano = df_anos[[\"code\", \"brand_code\"]].values\n",
    "df_anos = pd.DataFrame()\n",
    "\n",
    "for code, brand_code in par_modelo:\n",
    "    if (code, brand_code) not in par_ano:\n",
    "        try:\n",
    "            df_temp = pd.read_json(f\"https://fipe.parallelum.com.br/api/v2/cars/brands/{brand_code}/models/{code}/years\")\n",
    "            df_temp[\"model_code\"] = code\n",
    "            df_anos = pd.concat([df_anos, df_temp])\n",
    "        except Exception as e:\n",
    "            print(f\"Ocorreu um erro ao processar o modelo {code} da marca {brand_code}: {e}\")\n",
    "            if os.path.exists(\"anos.csv\"):\n",
    "                print(\"O arquivo já existe.\")\n",
    "                df_anos.to_csv(\"anos.csv\", index=False, encoding=\"utf-8\", mode=\"a\")\n",
    "            else:\n",
    "                print(\"O arquivo não existe, posso criar.\")\n",
    "                df_anos.to_csv(\"anos.csv\", index=False, encoding=\"utf-8\", mode=\"w\")\n",
    "            \n",
    "            print(\"Arquivo salvo. Encerrando o loop para evitar bloqueio por limite de requisições.\")\n",
    "            break\n",
    "    time.sleep(0.2)  # Pequeno delay para evitar limite de requisições\n",
    "df_anos.to_csv(\"anos.csv\", index=False, encoding=\"utf-8\")\n",
    "df_anos"
   ]
  }
 ],
 "metadata": {
  "kernelspec": {
   "display_name": "Python 3",
   "language": "python",
   "name": "python3"
  },
  "language_info": {
   "codemirror_mode": {
    "name": "ipython",
    "version": 3
   },
   "file_extension": ".py",
   "mimetype": "text/x-python",
   "name": "python",
   "nbconvert_exporter": "python",
   "pygments_lexer": "ipython3",
   "version": "3.11.9"
  }
 },
 "nbformat": 4,
 "nbformat_minor": 5
}
