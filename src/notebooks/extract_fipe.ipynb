{
 "cells": [
  {
   "cell_type": "code",
   "execution_count": 75,
   "id": "1ace2775",
   "metadata": {},
   "outputs": [],
   "source": [
    "import requests\n",
    "import pandas as pd\n",
    "import json"
   ]
  },
  {
   "cell_type": "code",
   "execution_count": null,
   "id": "e25cd564",
   "metadata": {},
   "outputs": [
    {
     "name": "stdout",
     "output_type": "stream",
     "text": [
      "29392\n"
     ]
    }
   ],
   "source": [
    "\n",
    "def lista_anos():\n",
    "    dicionario = {\"Gasolina\":1,\"Álcool\":2,\"Diesel\":3}\n",
    "    anos = pd.read_csv('../../data/anos.csv')\n",
    "    anos['fuel'] = anos['fuel'].map(dicionario)\n",
    "    anos['year'] = anos['year'].astype(str) + '-' + anos['fuel'].astype(str)\n",
    "    lista_anos = list(anos[['brand_code', 'model_code', 'year']].itertuples(index=False, name=None))\n",
    "\n",
    "    return lista_anos"
   ]
  },
  {
   "cell_type": "code",
   "execution_count": null,
   "id": "cb4477ca",
   "metadata": {},
   "outputs": [],
   "source": [
    "def consultaFipe():\n",
    "    lista = lista_anos()\n",
    "    df = pd.DataFrame()\n",
    "    for (marca, modelo, ano) in lista:\n",
    "        try:\n",
    "            url = f'https://fipe.parallelum.com.br/api/v2/cars/brands/1/models/1/years/1992-1'\n",
    "        except:\n",
    "            print(f'Erro ao processar o item ({marca} - {modelo} - {ano})')\n",
    "        response = requests.get(url)\n",
    "        response = response.json()\n",
    "        df_temp = pd.DataFrame([response])\n",
    "        df = pd.concat([df, df_temp], ignore_index=True)\n",
    "    return df"
   ]
  },
  {
   "cell_type": "code",
   "execution_count": 89,
   "id": "7b4bc3b6",
   "metadata": {},
   "outputs": [
    {
     "name": "stdout",
     "output_type": "stream",
     "text": [
      "   vehicleType         price brand                                    model  \\\n",
      "0            1  R$ 58.662,00  Fiat  Strada Trekking 1.6 16V LOCKER Flex  CD   \n",
      "1            1  R$ 60.989,00  Fiat  Strada Trekking 1.6 16V LOCKER Flex  CD   \n",
      "2            1  R$ 62.514,00  Fiat  Strada Trekking 1.6 16V LOCKER Flex  CD   \n",
      "\n",
      "   modelYear      fuel  codeFipe referenceMonth fuelAcronym  \n",
      "0       2014  Gasolina  001441-9  julho de 2025           G  \n",
      "1       2015  Gasolina  001441-9  julho de 2025           G  \n",
      "2       2016  Gasolina  001441-9  julho de 2025           G  \n"
     ]
    }
   ],
   "source": [
    "\n",
    "resultado = consultaFipe()\n",
    "print(resultado)"
   ]
  },
  {
   "cell_type": "code",
   "execution_count": 114,
   "id": "f96fe040",
   "metadata": {},
   "outputs": [],
   "source": [
    "url = f'https://fipe.parallelum.com.br/api/v2/cars/brands/21/models/7227/years/2014-1'\n",
    "response = requests.get(url)\n",
    "code = response.status_code\n",
    "response = response.json()\n",
    "df_temp = pd.DataFrame([response])"
   ]
  },
  {
   "cell_type": "code",
   "execution_count": null,
   "id": "090fa076",
   "metadata": {},
   "outputs": [
    {
     "name": "stdout",
     "output_type": "stream",
     "text": [
      "429\n"
     ]
    }
   ],
   "source": [
    "print(code)"
   ]
  },
  {
   "cell_type": "code",
   "execution_count": null,
   "id": "fa3df783",
   "metadata": {},
   "outputs": [],
   "source": [
    "import ast\n",
    "def lista_anos():\n",
    "    dicionario = {\"Gasolina\":1,\"Álcool\":2,\"Diesel\":3}\n",
    "    anos = pd.read_csv('../../data/anos.csv')\n",
    "    anos['fuel'] = anos['fuel'].map(dicionario)\n",
    "    anos['year'] = anos['year'].astype(str) + '-' + anos['fuel'].astype(str)\n",
    "    lista_modelo_ano = list(anos[['brand_code', 'model_code', 'year']].itertuples(index=False, name=None))\n",
    "\n",
    "    bd = pd.read_csv('../../data/fipe.csv', usecols=['marca_modelo_ano'])\n",
    "    bd=list(bd['marca_modelo_ano'])\n",
    "    bd = [ast.literal_eval(s) for s in bd]\n",
    "    lista_diff = [item for item in lista_modelo_ano if item not in bd]\n",
    "\n",
    "    return lista_diff"
   ]
  },
  {
   "cell_type": "code",
   "execution_count": null,
   "id": "c0abe18f",
   "metadata": {},
   "outputs": [
    {
     "name": "stdout",
     "output_type": "stream",
     "text": [
      "Lista na base:  180\n",
      "Lista completa: 29392\n",
      "Lista diferente:  29212\n"
     ]
    }
   ],
   "source": [
    "import ast\n",
    "bd = pd.read_csv('../../data/fipe.csv', usecols=['marca_modelo_ano'])\n",
    "bd=list(bd['marca_modelo_ano'])\n",
    "bd = [ast.literal_eval(s) for s in bd]\n",
    "\n",
    "\n",
    "print('Lista na base: ',len(bd))\n",
    "lista_full = lista_anos()\n",
    "print('Lista completa:', len(lista_full))\n",
    "\n",
    "lista_diff = [item for item in lista_full if item not in bd]\n",
    "print('Lista diferente: ',len(lista_diff))"
   ]
  }
 ],
 "metadata": {
  "kernelspec": {
   "display_name": "Python 3",
   "language": "python",
   "name": "python3"
  },
  "language_info": {
   "codemirror_mode": {
    "name": "ipython",
    "version": 3
   },
   "file_extension": ".py",
   "mimetype": "text/x-python",
   "name": "python",
   "nbconvert_exporter": "python",
   "pygments_lexer": "ipython3",
   "version": "3.13.5"
  }
 },
 "nbformat": 4,
 "nbformat_minor": 5
}
